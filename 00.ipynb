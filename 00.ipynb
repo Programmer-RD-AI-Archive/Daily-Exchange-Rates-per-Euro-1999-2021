{
 "cells": [
  {
   "cell_type": "code",
   "execution_count": 1,
   "id": "94eb2311-b8e9-4d25-aa29-f51a5901962b",
   "metadata": {},
   "outputs": [
    {
     "data": {
      "text/plain": [
       "<torch._C.Generator at 0x7fd777c71790>"
      ]
     },
     "execution_count": 1,
     "metadata": {},
     "output_type": "execute_result"
    }
   ],
   "source": [
    "import random\n",
    "import seaborn as sns\n",
    "import pandas as pd\n",
    "import numpy as np\n",
    "import matplotlib.pyplot as plt\n",
    "import sklearn\n",
    "import torch,torchvision\n",
    "from torch.nn import *\n",
    "from tqdm import tqdm\n",
    "import cv2\n",
    "from torch.optim import *\n",
    "# Preproccessing\n",
    "from sklearn.preprocessing import (\n",
    "    StandardScaler,\n",
    "    RobustScaler,\n",
    "    MinMaxScaler,\n",
    "    MaxAbsScaler,\n",
    "    OneHotEncoder,\n",
    "    Normalizer,\n",
    "    Binarizer\n",
    ")\n",
    "# Decomposition\n",
    "from sklearn.decomposition import PCA\n",
    "from sklearn.decomposition import KernelPCA\n",
    "# Feature Selection\n",
    "from sklearn.feature_selection import VarianceThreshold\n",
    "from sklearn.feature_selection import SelectKBest\n",
    "from sklearn.feature_selection import RFECV\n",
    "from sklearn.feature_selection import SelectFromModel\n",
    "# Model Eval\n",
    "from sklearn.compose import make_column_transformer\n",
    "from sklearn.model_selection import GridSearchCV\n",
    "from sklearn.model_selection import cross_val_score,train_test_split\n",
    "from sklearn.metrics import mean_absolute_error,mean_squared_error\n",
    "# Other\n",
    "import pickle\n",
    "import wandb\n",
    "\n",
    "PROJECT_NAME = 'Daily-Exchange-Rates-per-Euro-1999-2021'\n",
    "device = 'cuda:0'\n",
    "np.random.seed(21)\n",
    "random.seed(21)\n",
    "torch.manual_seed(21)"
   ]
  },
  {
   "cell_type": "code",
   "execution_count": 9,
   "id": "6a474b94-cbda-4b7a-ab88-e4efde181f21",
   "metadata": {},
   "outputs": [],
   "source": [
    "data = pd.read_csv('./data.csv')"
   ]
  },
  {
   "cell_type": "code",
   "execution_count": 10,
   "id": "1bfc363f-f537-4916-b443-6c0851314feb",
   "metadata": {},
   "outputs": [],
   "source": [
    "data = data['[Australian dollar ]']"
   ]
  },
  {
   "cell_type": "code",
   "execution_count": 11,
   "id": "1790fa09-963c-4ba0-8077-e50b8c2de221",
   "metadata": {},
   "outputs": [],
   "source": [
    "data = data.to_csv('./cleaned-data.csv',index=False)"
   ]
  },
  {
   "cell_type": "code",
   "execution_count": 46,
   "id": "4a91be1b-9524-443b-8c46-524346bf4ed5",
   "metadata": {},
   "outputs": [],
   "source": [
    "data = pd.read_csv('./cleaned-data.csv')"
   ]
  },
  {
   "cell_type": "code",
   "execution_count": 47,
   "id": "fd866e6a-07bb-4cab-9eff-5b92c7d34482",
   "metadata": {},
   "outputs": [],
   "source": [
    "data = data['[Australian dollar ]'].tolist()"
   ]
  },
  {
   "cell_type": "code",
   "execution_count": 52,
   "id": "6f24dfed-f8cd-45d3-a31d-e97e3a9db8f3",
   "metadata": {},
   "outputs": [],
   "source": [
    "new_data = []\n",
    "for d in data:\n",
    "    try:\n",
    "        new_data.append(float(d))\n",
    "    except:\n",
    "        pass"
   ]
  },
  {
   "cell_type": "code",
   "execution_count": 54,
   "id": "be3a8f11-aa7d-45b0-885a-7d1e8ddbe96e",
   "metadata": {},
   "outputs": [
    {
     "data": {
      "text/plain": [
       "5719"
      ]
     },
     "execution_count": 54,
     "metadata": {},
     "output_type": "execute_result"
    }
   ],
   "source": [
    "len(new_data)"
   ]
  },
  {
   "cell_type": "code",
   "execution_count": 55,
   "id": "db55bfc4-25ac-45e0-964c-819a13e145ef",
   "metadata": {},
   "outputs": [
    {
     "data": {
      "text/plain": [
       "5781"
      ]
     },
     "execution_count": 55,
     "metadata": {},
     "output_type": "execute_result"
    }
   ],
   "source": [
    "len(data)"
   ]
  },
  {
   "cell_type": "code",
   "execution_count": 56,
   "id": "c17d2f76-cd27-4a08-b93a-4df8d8d98f86",
   "metadata": {},
   "outputs": [],
   "source": [
    "data = new_data"
   ]
  },
  {
   "cell_type": "code",
   "execution_count": 57,
   "id": "14daf7cc-9cc4-4515-8d87-90b296a97805",
   "metadata": {},
   "outputs": [],
   "source": [
    "data = torch.from_numpy(np.array(data)).float().view(1,-1).to(device)"
   ]
  },
  {
   "cell_type": "code",
   "execution_count": 58,
   "id": "2c85cdeb-37a4-459c-b0d1-99bcf9c73563",
   "metadata": {},
   "outputs": [],
   "source": [
    "torch.save(data,'data.pt')\n",
    "torch.save(data,'data.pth')"
   ]
  },
  {
   "cell_type": "code",
   "execution_count": 59,
   "id": "7690856a-ce26-487c-8dae-35d13c46f32f",
   "metadata": {},
   "outputs": [],
   "source": [
    "data_input = data[:1,:-1].to(device).float()\n",
    "data_target = data[:1,1:].to(device).float()"
   ]
  },
  {
   "cell_type": "code",
   "execution_count": 60,
   "id": "bef1e011-afbb-4046-8a60-c49dde1b086f",
   "metadata": {},
   "outputs": [],
   "source": [
    "torch.save(data_input,'data_input.pt')\n",
    "torch.save(data_input,'data_input.pth')"
   ]
  },
  {
   "cell_type": "code",
   "execution_count": 61,
   "id": "9737800c-1f3f-44b9-af34-7240b2bdb3fc",
   "metadata": {},
   "outputs": [],
   "source": [
    "torch.save(data_target,'data_target.pt')\n",
    "torch.save(data_target,'data_target.pth')"
   ]
  },
  {
   "cell_type": "code",
   "execution_count": 62,
   "id": "d6874175-3a05-4fc0-bf07-4c11b0a36a74",
   "metadata": {},
   "outputs": [],
   "source": [
    "class Model(Module):\n",
    "    def __init__(self):\n",
    "        super().__init__()\n",
    "        self.hidden = 256\n",
    "        self.lstm1 = LSTMCell(1,self.hidden)\n",
    "        self.lstm2 = LSTMCell(self.hidden,self.hidden)\n",
    "        self.linear1 = Linear(self.hidden,1)\n",
    "    \n",
    "    def forward(self,X,future=0):\n",
    "        preds = []\n",
    "        batch_size = X.shape[0]\n",
    "        h_t1 = torch.zeros(batch_size,self.hidden).to(device)\n",
    "        c_t1 = torch.zeros(batch_size,self.hidden).to(device)\n",
    "        h_t2 = torch.zeros(batch_size,self.hidden).to(device)\n",
    "        c_t2 = torch.zeros(batch_size,self.hidden).to(device)\n",
    "        for X_batch in X.split(1,dim=1):\n",
    "            X_batch = X_batch.to(device)\n",
    "            h_t1,c_t1 = self.lstm1(X_batch,(h_t1,c_t1))\n",
    "            h_t1 = h_t1.to(device)\n",
    "            c_t1 = c_t1.to(device)\n",
    "            h_t2,c_t2 = self.lstm2(h_t1,(h_t2,c_t2))\n",
    "            h_t2 = h_t2.to(device)\n",
    "            c_t2 = c_t2.to(device)\n",
    "            pred = self.linear1(h_t2)\n",
    "            preds.append(pred)\n",
    "        for _ in range(future):\n",
    "            X_batch = X_batch.to(device)\n",
    "            h_t1,c_t1 = self.lstm1(X_batch,(h_t1,c_t1))\n",
    "            h_t1 = h_t1.to(device)\n",
    "            c_t1 = c_t1.to(device)\n",
    "            h_t2,c_t2 = self.lstm2(h_t1,(h_t2,c_t2))\n",
    "            h_t2 = h_t2.to(device)\n",
    "            c_t2 = c_t2.to(device)\n",
    "            pred = self.linear1(h_t2)\n",
    "            preds.append(pred)\n",
    "        preds = torch.cat(preds,dim=1)\n",
    "        return preds"
   ]
  },
  {
   "cell_type": "code",
   "execution_count": 64,
   "id": "2ac1289e-1841-4c11-95c1-e318bb1775db",
   "metadata": {},
   "outputs": [],
   "source": [
    "model = Model().to(device)\n",
    "criterion = MSELoss()\n",
    "optimizer = Adam(model.parameters(),lr=0.001)\n",
    "epochs = 1000"
   ]
  },
  {
   "cell_type": "code",
   "execution_count": null,
   "id": "2fcdcc2f-a779-40cf-a17b-2d173b1af2cf",
   "metadata": {},
   "outputs": [
    {
     "name": "stderr",
     "output_type": "stream",
     "text": [
      "\u001b[34m\u001b[1mwandb\u001b[0m: Currently logged in as: \u001b[33mranuga-d\u001b[0m (use `wandb login --relogin` to force relogin)\n",
      "\u001b[34m\u001b[1mwandb\u001b[0m: wandb version 0.12.2 is available!  To upgrade, please run:\n",
      "\u001b[34m\u001b[1mwandb\u001b[0m:  $ pip install wandb --upgrade\n"
     ]
    },
    {
     "data": {
      "text/html": [
       "\n",
       "                Tracking run with wandb version 0.12.1<br/>\n",
       "                Syncing run <strong style=\"color:#cdcd00\">baseline</strong> to <a href=\"https://wandb.ai\" target=\"_blank\">Weights & Biases</a> <a href=\"https://docs.wandb.com/integrations/jupyter.html\" target=\"_blank\">(Documentation)</a>.<br/>\n",
       "                Project page: <a href=\"https://wandb.ai/ranuga-d/Daily-Exchange-Rates-per-Euro-1999-2021\" target=\"_blank\">https://wandb.ai/ranuga-d/Daily-Exchange-Rates-per-Euro-1999-2021</a><br/>\n",
       "                Run page: <a href=\"https://wandb.ai/ranuga-d/Daily-Exchange-Rates-per-Euro-1999-2021/runs/2cuj2u1j\" target=\"_blank\">https://wandb.ai/ranuga-d/Daily-Exchange-Rates-per-Euro-1999-2021/runs/2cuj2u1j</a><br/>\n",
       "                Run data is saved locally in <code>/home/indika/Programming/Projects/Python/Artifical-Intelligence/PyTorch/RNN/Daily-Exchange-Rates-per-Euro-1999-2021/wandb/run-20210915_214301-2cuj2u1j</code><br/><br/>\n",
       "            "
      ],
      "text/plain": [
       "<IPython.core.display.HTML object>"
      ]
     },
     "metadata": {},
     "output_type": "display_data"
    },
    {
     "name": "stderr",
     "output_type": "stream",
     "text": [
      "  1%|▍                                        | 12/1000 [00:41<55:52,  3.39s/it]"
     ]
    }
   ],
   "source": [
    "wandb.init(project=PROJECT_NAME,name='baseline')\n",
    "for _ in tqdm(range(epochs)):\n",
    "    def closure():\n",
    "        optimizer.zero_grad()\n",
    "        preds = model(data_input)\n",
    "        loss = criterion(preds,data_target)\n",
    "        loss.backward()\n",
    "        wandb.log({'Loss':loss.item()})\n",
    "        return loss\n",
    "    optimizer.step(closure)\n",
    "    model.eval()\n",
    "    with torch.no_grad():\n",
    "        future = 100\n",
    "        preds = model(data_input,future)\n",
    "        loss = criterion(preds[:,:-future],data_target)\n",
    "        wandb.log({'Val Loss':loss.item()})\n",
    "        preds = preds[0].view(-1).cpu().detach().numpy()\n",
    "        n = data_input.shape[1]\n",
    "        plt.figure(figsize=(12,6))\n",
    "        plt.plot(np.arange(n),data_target.view(-1).cpu().detach().numpy(),'b')\n",
    "        plt.plot(np.arange(n,n+future),preds[n:],'r')\n",
    "        plt.savefig('./img.png')\n",
    "        plt.close()\n",
    "        wandb.log({'Img':wandb.Image(cv2.imread('./img.png'))})\n",
    "    model.train()\n",
    "wandb.finish()"
   ]
  },
  {
   "cell_type": "code",
   "execution_count": null,
   "id": "21f933f6-37b2-4a42-8fc5-e8aa40c65956",
   "metadata": {},
   "outputs": [],
   "source": [
    "torch.save(model,'model.pt')\n",
    "torch.save(model,'model.pth')"
   ]
  },
  {
   "cell_type": "code",
   "execution_count": null,
   "id": "d95d45fc-fe3f-4d46-b010-6cdd73143cca",
   "metadata": {},
   "outputs": [],
   "source": [
    "torch.save(model.state_dict(),'model-sd.pt')\n",
    "torch.save(model.state_dict(),'model-sd.pth')"
   ]
  },
  {
   "cell_type": "code",
   "execution_count": null,
   "id": "12041658-8d10-42e5-942a-f575afef2f2c",
   "metadata": {},
   "outputs": [],
   "source": []
  }
 ],
 "metadata": {
  "kernelspec": {
   "display_name": "Python 3.7.3 64-bit ('base': conda)",
   "language": "python",
   "name": "python373jvsc74a57bd0210f9608a45c0278a93c9e0b10db32a427986ab48cfc0d20c139811eb78c4bbc"
  },
  "language_info": {
   "codemirror_mode": {
    "name": "ipython",
    "version": 3
   },
   "file_extension": ".py",
   "mimetype": "text/x-python",
   "name": "python",
   "nbconvert_exporter": "python",
   "pygments_lexer": "ipython3",
   "version": "3.7.11"
  }
 },
 "nbformat": 4,
 "nbformat_minor": 5
}
